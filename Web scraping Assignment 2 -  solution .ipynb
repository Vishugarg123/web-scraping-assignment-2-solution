{
 "cells": [
  {
   "cell_type": "markdown",
   "id": "d6cc24fc",
   "metadata": {},
   "source": [
    "Que-11.Write a python program to scrape data for “Data Analyst” Job position in “Bangalore” location. You have to scrape the job-title, job-location, company_name, experience_required. You have to scrape first 10 jobs data.\n",
    "\n",
    "This task will be done in following steps:\n",
    "\n",
    "First get the webpage https://www.naukri.com/\n",
    "Enter “Data Analyst” in “Skill, Designations, Companies” field and enter “Bangalore” in “enter the location” field.\n",
    "Then click the search button.\n",
    "Then scrape the data for the first 10 jobs results you get.\n",
    "Finally create a dataframe of the scraped data."
   ]
  },
  {
   "cell_type": "code",
   "execution_count": null,
   "id": "23ef38bf",
   "metadata": {},
   "outputs": [],
   "source": [
    "!pip install selenium"
   ]
  },
  {
   "cell_type": "code",
   "execution_count": null,
   "id": "87b7ec12",
   "metadata": {},
   "outputs": [],
   "source": [
    "import selenium\n",
    "import pandas as pd\n",
    "from selenium import webdriver\n",
    "import warnings\n",
    "warnings.filterwarnings(\"ignore\")\n",
    "import time"
   ]
  },
  {
   "cell_type": "code",
   "execution_count": null,
   "id": "8fa16683",
   "metadata": {},
   "outputs": [],
   "source": [
    "driver = webdriver.Chrome(r\"F:\\Data science internship\\chromedriver.exe\")"
   ]
  },
  {
   "cell_type": "code",
   "execution_count": null,
   "id": "35e473f0",
   "metadata": {},
   "outputs": [],
   "source": [
    "driver=webdriver.Chrome(\"chromedriver.exe\")\n",
    "time.sleep(2)"
   ]
  },
  {
   "cell_type": "code",
   "execution_count": null,
   "id": "998e8f2e",
   "metadata": {},
   "outputs": [],
   "source": [
    "driver.close()"
   ]
  },
  {
   "cell_type": "code",
   "execution_count": null,
   "id": "2c679235",
   "metadata": {},
   "outputs": [],
   "source": [
    "driver.get(\"https://www.naukri.com/\")"
   ]
  },
  {
   "cell_type": "code",
   "execution_count": null,
   "id": "e774b431",
   "metadata": {},
   "outputs": [],
   "source": [
    "# Finding element for job search bar\n",
    "search_designation=driver.find_element_by_class_name(\"suggestor-input\")\n",
    "search_designation.send_keys(\"Data Analyst\")\n",
    "search_loaction=driver.find_element_by_xpath('/html/body/div/div[2]/div[3]/div/div/div[3]/div/div/div/input') \n",
    "search_loaction.send_keys(\"Bangalore\")"
   ]
  },
  {
   "cell_type": "code",
   "execution_count": null,
   "id": "61ea3cdd",
   "metadata": {},
   "outputs": [],
   "source": []
  },
  {
   "cell_type": "code",
   "execution_count": null,
   "id": "a7045e3d",
   "metadata": {},
   "outputs": [],
   "source": [
    "search_button=driver.find_element_by_xpath(\"/html/body/div/div[2]/div[3]/div/div/div[6]\")\n",
    "search_button.click()\n",
    "\n",
    "url=\"https://www.naukri.com/data-analyst-jobs-in-bangalore?k=data%20analyst&l=bangalore\"\n",
    "# open the web page\n",
    "driver.get(url)"
   ]
  },
  {
   "cell_type": "code",
   "execution_count": null,
   "id": "edc79b1a",
   "metadata": {},
   "outputs": [],
   "source": [
    "job_title=[]\n",
    "company_names=[]\n",
    "locations_list=[]\n",
    "experience_list=[]\n",
    "titles_tags=driver.find_elements_by_xpath(\"//a[@class='title fw500 ellipsis']\")\n",
    "titles_tags[0:10]"
   ]
  },
  {
   "cell_type": "code",
   "execution_count": null,
   "id": "fe296920",
   "metadata": {},
   "outputs": [],
   "source": [
    "for i in titles_tags:\n",
    "    title=i.text\n",
    "    job_titles.append(title)\n",
    "job_titles[0:10]"
   ]
  },
  {
   "cell_type": "code",
   "execution_count": null,
   "id": "352c091d",
   "metadata": {},
   "outputs": [],
   "source": [
    "companies_tags=driver.find_elements_by_xpath(\"//a[@class='subTitle ellipsis fleft']\")\n",
    "companies_tags[0:10]"
   ]
  },
  {
   "cell_type": "code",
   "execution_count": null,
   "id": "dd1f9113",
   "metadata": {},
   "outputs": [],
   "source": [
    "for i in companies_tags:\n",
    "    company_name=i.text\n",
    "    company_names.append(company_name)\n",
    "company_names[0:10]"
   ]
  },
  {
   "cell_type": "code",
   "execution_count": null,
   "id": "2408004b",
   "metadata": {},
   "outputs": [],
   "source": [
    "experience_tags=driver.find_elements_by_xpath(\"//li[@class='fleft grey-text br2 placeHolderLi experience']/span[1]\")\n",
    "experience_tags[0:10]"
   ]
  },
  {
   "cell_type": "code",
   "execution_count": null,
   "id": "b78d5cd8",
   "metadata": {},
   "outputs": [],
   "source": [
    "for i in experience_tags:\n",
    "    experience=i.text\n",
    "    experience_list.append(experience)\n",
    "experience_list[0:10]"
   ]
  },
  {
   "cell_type": "code",
   "execution_count": null,
   "id": "1b08b8bb",
   "metadata": {},
   "outputs": [],
   "source": [
    "location_tags=driver.find_elements_by_xpath(\"//li[@class='fleft grey-text br2 placeHolderLi location']/span[1]\")\n",
    "location_tags[0:10]"
   ]
  },
  {
   "cell_type": "code",
   "execution_count": null,
   "id": "9e1449b2",
   "metadata": {},
   "outputs": [],
   "source": [
    "\n",
    "for i in location_tags :\n",
    "    location=i.text\n",
    "    locations_list.append(location)\n",
    "locations_list[0:10]"
   ]
  },
  {
   "cell_type": "code",
   "execution_count": null,
   "id": "f91bc023",
   "metadata": {},
   "outputs": [],
   "source": [
    "jobs=pd.DataFrame({})\n",
    "jobs['title']=job_titles[:10]\n",
    "jobs['company']=company_names[:10]\n",
    "jobs['experience_required']=experience_list[:10]\n",
    "jobs['location']=locations_list[:10]\n",
    "jobs"
   ]
  },
  {
   "cell_type": "markdown",
   "id": "30b5938b",
   "metadata": {},
   "source": [
    "Q2: Write a python program to scrape data for “Data Scientist” Job position in “Bangalore” location. You have to scrape the job-title, job-location, company_name. You have to scrape first 10 jobs data.\n",
    "\n",
    "This task will be done in following steps:\n",
    "\n",
    "First get the webpage https://www.naukri.com/\n",
    "Enter “Data Scientist” in “Skill, Designations, Companies” field and enter “Bangalore” in “enter the location” field.\n",
    "Then click the search button.\n",
    "Then scrape the data for the first 10 jobs results you get.\n",
    "Finally create a dataframe of the scraped data."
   ]
  },
  {
   "cell_type": "code",
   "execution_count": null,
   "id": "4ab9cad7",
   "metadata": {},
   "outputs": [],
   "source": [
    "import selenium\n",
    "import pandas as pd\n",
    "from selenium import webdriver\n",
    "import warnings\n",
    "warnings.filterwarnings(\"ignore\")\n",
    "import time"
   ]
  },
  {
   "cell_type": "code",
   "execution_count": null,
   "id": "9c6773b0",
   "metadata": {},
   "outputs": [],
   "source": [
    "driver = webdriver.Chrome(r\"F:\\Data science internship\\chromedriver.exe\")"
   ]
  },
  {
   "cell_type": "code",
   "execution_count": null,
   "id": "f83f9fb2",
   "metadata": {},
   "outputs": [],
   "source": [
    "driver=webdriver.Chrome(\"chromedriver.exe\")\n",
    "time.sleep(2)"
   ]
  },
  {
   "cell_type": "code",
   "execution_count": null,
   "id": "8155093f",
   "metadata": {},
   "outputs": [],
   "source": [
    "driver.close()"
   ]
  },
  {
   "cell_type": "code",
   "execution_count": null,
   "id": "e74e0eff",
   "metadata": {},
   "outputs": [],
   "source": [
    "driver.get(\"https://www.naukri.com/\")"
   ]
  },
  {
   "cell_type": "code",
   "execution_count": null,
   "id": "661b32b1",
   "metadata": {},
   "outputs": [],
   "source": [
    "# Finding element for job search bar\n",
    "search_designation=driver.find_element_by_class_name(\"suggestor-input\") #job search bar\n",
    "search_designation.send_keys(\"Data Scientist\")\n",
    "search_loaction=driver.find_element_by_xpath('/html/body/div/div[2]/div[3]/div/div/div[3]/div/div/div/input') #Location Search bar\n",
    "search_loaction.send_keys(\"Bangalore\")"
   ]
  },
  {
   "cell_type": "code",
   "execution_count": null,
   "id": "8863f951",
   "metadata": {},
   "outputs": [],
   "source": [
    "search_button=driver.find_element_by_xpath(\"/html/body/div/div[2]/div[3]/div/div/div[6]\")\n",
    "search_button.click()"
   ]
  },
  {
   "cell_type": "code",
   "execution_count": null,
   "id": "33c7bddc",
   "metadata": {},
   "outputs": [],
   "source": [
    "url=\"https://www.naukri.com/data-scientist-jobs-in-bangalore?k=data%20scientist&l=bangalore\"\n",
    "\n",
    "driver.get(url)"
   ]
  },
  {
   "cell_type": "code",
   "execution_count": null,
   "id": "b507dbd6",
   "metadata": {},
   "outputs": [],
   "source": [
    "job_titles=[]\n",
    "company_names=[]\n",
    "locations_list=[]\n",
    "titles_tags=driver.find_elements_by_xpath(\"//a[@class='title fw500 ellipsis']\")\n",
    "titles_tags[0:10]"
   ]
  },
  {
   "cell_type": "code",
   "execution_count": null,
   "id": "94ea8d7c",
   "metadata": {},
   "outputs": [],
   "source": [
    "for i in titles_tags:\n",
    "    title=i.text\n",
    "    job_titles.append(title)\n",
    "job_titles[0:10]"
   ]
  },
  {
   "cell_type": "code",
   "execution_count": null,
   "id": "1439cc59",
   "metadata": {},
   "outputs": [],
   "source": [
    "companies_tags=driver.find_elements_by_xpath(\"//a[@class='subTitle ellipsis fleft']\")\n",
    "companies_tags[0:10]\n",
    "\n",
    "for i in companies_tags:\n",
    "    company_name=i.text\n",
    "    company_names.append(company_name)\n",
    "company_names[0:10]"
   ]
  },
  {
   "cell_type": "code",
   "execution_count": null,
   "id": "03bb419e",
   "metadata": {},
   "outputs": [],
   "source": [
    "location_tags=driver.find_elements_by_xpath(\"//li[@class='fleft grey-text br2 placeHolderLi location']/span[1]\")\n",
    "location_tags[0:10]\n",
    "\n",
    "for i in location_tags :\n",
    "    location=i.text\n",
    "    locations_list.append(location)\n",
    "locations_list[0:10]"
   ]
  },
  {
   "cell_type": "code",
   "execution_count": null,
   "id": "91bf45ec",
   "metadata": {},
   "outputs": [],
   "source": [
    "print(len(job_titles),len(company_names),len(locations_list))"
   ]
  },
  {
   "cell_type": "code",
   "execution_count": null,
   "id": "713ce526",
   "metadata": {},
   "outputs": [],
   "source": [
    "#Import pandas as pd\n",
    "jobs=pd.DataFrame({})\n",
    "jobs['title']=job_titles[:10]\n",
    "jobs['company']=company_names[:10]\n",
    "jobs['location']=locations_list[:10]\n",
    "jobs"
   ]
  },
  {
   "cell_type": "markdown",
   "id": "f1f73af0",
   "metadata": {},
   "source": [
    "Q3: In this question you have to scrape data using the filters available on the webpage as shown below: The task will be done as shown in the below steps:\n",
    "\n",
    "first get the webpage https://www.naukri.com/\n",
    "Enter “Data Scientist” in “Skill, Designations, and Companies” field.\n",
    "Then click the search button.\n",
    "Then apply the location filter and salary filter by checking the respective boxes\n",
    "Then scrape the data for the first 10 jobs results you get.\n",
    "Finally create a dataframe of the scraped data."
   ]
  },
  {
   "cell_type": "code",
   "execution_count": null,
   "id": "eb584f57",
   "metadata": {},
   "outputs": [],
   "source": [
    "import selenium\n",
    "import pandas as pd\n",
    "from selenium import webdriver\n",
    "import warnings\n",
    "warnings.filterwarnings(\"ignore\")\n",
    "import time"
   ]
  },
  {
   "cell_type": "code",
   "execution_count": null,
   "id": "e0979173",
   "metadata": {},
   "outputs": [],
   "source": [
    "driver = webdriver.Chrome(r\"F:\\Data science internship\\chromedriver.exe\")"
   ]
  },
  {
   "cell_type": "code",
   "execution_count": null,
   "id": "8e4286af",
   "metadata": {},
   "outputs": [],
   "source": [
    "driver=webdriver.Chrome(\"chromedriver.exe\")\n",
    "time.sleep(2)"
   ]
  },
  {
   "cell_type": "code",
   "execution_count": null,
   "id": "1c75f51e",
   "metadata": {},
   "outputs": [],
   "source": [
    "driver.close()"
   ]
  },
  {
   "cell_type": "code",
   "execution_count": null,
   "id": "7bec6dad",
   "metadata": {},
   "outputs": [],
   "source": [
    "driver.get(\"https://www.naukri.com/\")"
   ]
  },
  {
   "cell_type": "code",
   "execution_count": null,
   "id": "f98055fd",
   "metadata": {},
   "outputs": [],
   "source": [
    "search_field_designation=driver.find_element_by_class_name(\"suggestor-input\") #job search bar\n",
    "search_field_designation.send_keys(\"Data Scientist\")\n",
    "search_button=driver.find_element_by_xpath(\"/html/body/div/div[2]/div[3]/div/div/div[6]\")\n",
    "search_button.click()"
   ]
  },
  {
   "cell_type": "code",
   "execution_count": null,
   "id": "1631a797",
   "metadata": {},
   "outputs": [],
   "source": [
    "\n",
    "url=\"https://www.naukri.com/data-scientist-jobs?k=data%20scientist\"\n",
    "\n",
    "driver.get(url)"
   ]
  },
  {
   "cell_type": "code",
   "execution_count": null,
   "id": "acb40800",
   "metadata": {},
   "outputs": [],
   "source": [
    "job_titles=[]\n",
    "company_names=[]\n",
    "locations_list=[]\n",
    "experience_list=[]\n",
    "salary_list=[]\n",
    "# So lets extract all the tags having the job-titles\n",
    "titles_tags=driver.find_elements_by_xpath(\"//a[@class='title fw500 ellipsis']\")\n",
    "titles_tags[0:10]"
   ]
  },
  {
   "cell_type": "code",
   "execution_count": null,
   "id": "9e88a268",
   "metadata": {},
   "outputs": [],
   "source": [
    "for i in titles_tags:\n",
    "    title=i.text\n",
    "    job_titles.append(title)\n",
    "job_titles[0:10]"
   ]
  },
  {
   "cell_type": "code",
   "execution_count": null,
   "id": "4fe5c6d0",
   "metadata": {},
   "outputs": [],
   "source": [
    "companies_tags=driver.find_elements_by_xpath(\"//a[@class='subTitle ellipsis fleft']\")\n",
    "companies_tags[0:10]"
   ]
  },
  {
   "cell_type": "code",
   "execution_count": null,
   "id": "a8af3570",
   "metadata": {},
   "outputs": [],
   "source": [
    "for i in companies_tags:\n",
    "    company_name=i.text\n",
    "    company_names.append(company_name)\n",
    "company_names[0:10]"
   ]
  },
  {
   "cell_type": "code",
   "execution_count": null,
   "id": "d02dd841",
   "metadata": {},
   "outputs": [],
   "source": [
    "experience_tags=driver.find_elements_by_xpath(\"//li[@class='fleft grey-text br2 placeHolderLi experience']/span[1]\")\n",
    "experience_tags[0:10]"
   ]
  },
  {
   "cell_type": "code",
   "execution_count": null,
   "id": "a6ae2cf4",
   "metadata": {},
   "outputs": [],
   "source": [
    "for i in experience_tags:\n",
    "    experience=i.text\n",
    "    experience_list.append(experience)\n",
    "experience_list[0:10]"
   ]
  },
  {
   "cell_type": "code",
   "execution_count": null,
   "id": "2694b66f",
   "metadata": {},
   "outputs": [],
   "source": [
    "location_tags=driver.find_elements_by_xpath(\"//li[@class='fleft grey-text br2 placeHolderLi location']/span[1]\")\n",
    "location_tags[0:10]"
   ]
  },
  {
   "cell_type": "code",
   "execution_count": null,
   "id": "6307c283",
   "metadata": {},
   "outputs": [],
   "source": [
    "for i in location_tags :\n",
    "    location=i.text\n",
    "    locations_list.append(location)\n",
    "locations_list[0:10]"
   ]
  },
  {
   "cell_type": "code",
   "execution_count": null,
   "id": "5198a54f",
   "metadata": {},
   "outputs": [],
   "source": [
    "salary_tags=driver.find_elements_by_xpath(\"//li[@class='fleft grey-text br2 placeHolderLi salary']/span[1]\")\n",
    "salary_tags[0:10]"
   ]
  },
  {
   "cell_type": "code",
   "execution_count": null,
   "id": "73c89bdd",
   "metadata": {},
   "outputs": [],
   "source": [
    "for i in salary_tags :\n",
    "    salary=i.text\n",
    "    salary_list.append(salary)\n",
    "salary_list[0:10]"
   ]
  },
  {
   "cell_type": "code",
   "execution_count": null,
   "id": "84e9e9be",
   "metadata": {},
   "outputs": [],
   "source": [
    "jobs=pd.DataFrame({})\n",
    "jobs['Title']=job_titles[:10]\n",
    "jobs['Company']=company_names[:10]\n",
    "jobs['Experience_required']=experience_list[:10]\n",
    "jobs['Location']=locations_list[:10]\n",
    "jobs['Salary']=salary_list[:10]\n",
    "jobs"
   ]
  },
  {
   "cell_type": "markdown",
   "id": "04866557",
   "metadata": {},
   "source": [
    "QUE4: Scrape data of first 100 sunglasses listings on flipkart.com"
   ]
  },
  {
   "cell_type": "code",
   "execution_count": null,
   "id": "ae9af26d",
   "metadata": {},
   "outputs": [],
   "source": [
    "# Lets now import all the required libraries\n",
    "import selenium\n",
    "import pandas as pd\n",
    "from selenium import webdriver\n",
    "import warnings\n",
    "warnings.filterwarnings(\"ignore\")\n",
    "import time"
   ]
  },
  {
   "cell_type": "code",
   "execution_count": null,
   "id": "79205423",
   "metadata": {},
   "outputs": [],
   "source": [
    "driver = webdriver.Chrome(r\"F:\\Data science internship\\chromedriver.exe\")"
   ]
  },
  {
   "cell_type": "code",
   "execution_count": null,
   "id": "e2442dc3",
   "metadata": {},
   "outputs": [],
   "source": [
    "driver=webdriver.Chrome(\"chromedriver.exe\")\n",
    "time.sleep(2)"
   ]
  },
  {
   "cell_type": "code",
   "execution_count": null,
   "id": "03a32e6f",
   "metadata": {},
   "outputs": [],
   "source": [
    "driver.get('https://www.flipkart.com/')"
   ]
  },
  {
   "cell_type": "code",
   "execution_count": null,
   "id": "55baaa08",
   "metadata": {},
   "outputs": [],
   "source": [
    "# Finding element for search bar\n",
    "search_g= driver.find_element_by_xpath(\"//input[@class='_3704LK']\") \n",
    "search_g"
   ]
  },
  {
   "cell_type": "code",
   "execution_count": null,
   "id": "4ff9057b",
   "metadata": {},
   "outputs": [],
   "source": [
    "search_g.send_keys('sunglasses')"
   ]
  },
  {
   "cell_type": "code",
   "execution_count": null,
   "id": "ea52dc61",
   "metadata": {},
   "outputs": [],
   "source": [
    "search_button=driver.find_element_by_xpath(\"//button[@class='L0Z3Pu']\")\n",
    "search_button.click()\n",
    "B_name=[]\n",
    "Price=[]\n",
    "P_desc=[]"
   ]
  },
  {
   "cell_type": "code",
   "execution_count": null,
   "id": "1c45de93",
   "metadata": {},
   "outputs": [],
   "source": [
    "for i in range(3):\n",
    "    b_name=driver.find_elements_by_xpath(\"//div[@class='_2WkVRV']\")\n",
    "   \n",
    " for j  in b_name:\n",
    "        B_name.append(j.text)\n",
    "B_name[:100]"
   ]
  },
  {
   "cell_type": "code",
   "execution_count": null,
   "id": "fcb46581",
   "metadata": {},
   "outputs": [],
   "source": [
    "for i in range(3): \n",
    "    p_desc=driver.find_elements_by_xpath(\"//a[@class='IRpwTa']\")\n",
    "for k in p_desc:\n",
    "        P_desc.append(k.text)\n",
    "P_desc[:100]\n",
    "    "
   ]
  },
  {
   "cell_type": "code",
   "execution_count": null,
   "id": "8b7f0622",
   "metadata": {},
   "outputs": [],
   "source": [
    "for i in range(3): \n",
    "    price =driver.find_elements_by_xpath(\"//div[@class='_30jeq3']\")\n",
    "for l in price:\n",
    "        Price.append(l.text)\n",
    "Price[:100] "
   ]
  },
  {
   "cell_type": "code",
   "execution_count": null,
   "id": "a4fc29e4",
   "metadata": {},
   "outputs": [],
   "source": [
    "#So lets check th length of ech element.\n",
    "print(len(B_name[:40])),print(len(Price[:40])),print(len(P_desc[:40]))"
   ]
  },
  {
   "cell_type": "code",
   "execution_count": null,
   "id": "1287d4b0",
   "metadata": {},
   "outputs": [],
   "source": [
    "sun_gl=pd.DataFrame({})\n",
    "sun_gl['Brand_name']=B_name[:40]\n",
    "sun_gl['P_price']=Price[:40]\n",
    "sun_gl['Pr_desc']=P_desc[:40]\n",
    "sun_gl"
   ]
  },
  {
   "cell_type": "code",
   "execution_count": null,
   "id": "ac5432b8",
   "metadata": {},
   "outputs": [],
   "source": [
    "for i in range(3):\n",
    "    b_name=driver.find_elements_by_xpath(\"//div[@class='_2WkVRV']\")\n",
    "    p_desc=driver.find_elements_by_xpath(\"//a[@class='IRpwTa']\")\n",
    "    price =driver.find_elements_by_xpath(\"//div[@class='_30jeq3']\")\n",
    "    \n",
    "    for j  in b_name:\n",
    "        B_name.append(j.text)\n",
    "    B_name[:100]\n",
    "        \n",
    "    for k in p_desc:\n",
    "        P_desc.append(k.text)\n",
    "    P_desc[:100]\n",
    "        \n",
    "    for l in price:\n",
    "        Price.append(l.text)\n",
    "    Price[:100]\n"
   ]
  },
  {
   "cell_type": "code",
   "execution_count": null,
   "id": "6ab5e02d",
   "metadata": {},
   "outputs": [],
   "source": [
    "B_name[:100]"
   ]
  },
  {
   "cell_type": "code",
   "execution_count": null,
   "id": "8fd97f19",
   "metadata": {},
   "outputs": [],
   "source": [
    "P_desc[:100]"
   ]
  },
  {
   "cell_type": "code",
   "execution_count": null,
   "id": "7fb1f622",
   "metadata": {},
   "outputs": [],
   "source": [
    "Price[:100]"
   ]
  },
  {
   "cell_type": "code",
   "execution_count": null,
   "id": "8e17cb70",
   "metadata": {},
   "outputs": [],
   "source": [
    "sun_gl=pd.DataFrame({})\n",
    "sun_gl['Brand_name']=B_name[:100]\n",
    "sun_gl['P_price']=Price[:100]\n",
    "sun_gl['Pr_desc']=P_desc[:100]\n",
    "sun_gl"
   ]
  },
  {
   "cell_type": "markdown",
   "id": "1832638a",
   "metadata": {},
   "source": [
    "Q6: Scrape data for first 100 sneakers you find when you visit flipkart.com andsearch for “sneakers” in the search field."
   ]
  },
  {
   "cell_type": "code",
   "execution_count": null,
   "id": "ddb834ea",
   "metadata": {},
   "outputs": [],
   "source": [
    "import selenium\n",
    "import pandas as pd\n",
    "from selenium import webdriver\n",
    "import warnings\n",
    "warnings.filterwarnings(\"ignore\")\n",
    "import time"
   ]
  },
  {
   "cell_type": "code",
   "execution_count": null,
   "id": "dc84582c",
   "metadata": {},
   "outputs": [],
   "source": [
    "driver = webdriver.Chrome(r\"F:\\Data science internship\\chromedriver.exe\")"
   ]
  },
  {
   "cell_type": "code",
   "execution_count": null,
   "id": "9f735f83",
   "metadata": {},
   "outputs": [],
   "source": [
    "driver=webdriver.Chrome(\"chromedriver.exe\")\n",
    "time.sleep(2)"
   ]
  },
  {
   "cell_type": "code",
   "execution_count": null,
   "id": "cb4e00a7",
   "metadata": {},
   "outputs": [],
   "source": [
    "driver.get('https://www.flipkart.com/')"
   ]
  },
  {
   "cell_type": "code",
   "execution_count": null,
   "id": "0affff99",
   "metadata": {},
   "outputs": [],
   "source": [
    "search= driver.find_element_by_xpath(\"//input[@class='_3704LK']\") \n",
    "search"
   ]
  },
  {
   "cell_type": "code",
   "execution_count": null,
   "id": "d8782028",
   "metadata": {},
   "outputs": [],
   "source": [
    "search.send_keys('sneakers')\n",
    "search_button=driver.find_element_by_xpath(\"//button[@class='L0Z3Pu']\")\n",
    "search_button.click()\n",
    "B_name=[]\n",
    "Price=[]\n",
    "P_desc=[]\n",
    "Discount=[]"
   ]
  },
  {
   "cell_type": "code",
   "execution_count": null,
   "id": "bb346eca",
   "metadata": {},
   "outputs": [],
   "source": [
    "for i in range(3):\n",
    "    b_name=driver.find_elements_by_xpath(\"//div[@class='_2WkVRV']\")\n",
    "    p_desc=driver.find_elements_by_xpath(\"//a[@class='IRpwTa']\")\n",
    "    price =driver.find_elements_by_xpath(\"//div[@class='_30jeq3']\")\n",
    "    discount=driver.find_elements_by_xpath(\"//div[@class='_3Ay6Sb']\")\n",
    "    \n",
    "    for j  in b_name:\n",
    "        B_name.append(j.text)\n",
    "    B_name[:100]    \n",
    "    \n",
    "    \n",
    "    \n",
    "    for k in p_desc:\n",
    "        P_desc.append(k.text)\n",
    "    P_desc[:100] \n",
    "    \n",
    "    \n",
    "    for l in price:\n",
    "        Price.append(l.text)\n",
    "    Price[:100] \n",
    "    \n",
    "    \n",
    "    for t in discount:\n",
    "        Discount.append(t.text)\n",
    "    Discount[:100]\n",
    "B_name[:100]"
   ]
  },
  {
   "cell_type": "code",
   "execution_count": null,
   "id": "2003b8e9",
   "metadata": {},
   "outputs": [],
   "source": [
    "P_desc[:100]"
   ]
  },
  {
   "cell_type": "code",
   "execution_count": null,
   "id": "bef15904",
   "metadata": {},
   "outputs": [],
   "source": [
    "Price[:100]"
   ]
  },
  {
   "cell_type": "code",
   "execution_count": null,
   "id": "15df91d4",
   "metadata": {},
   "outputs": [],
   "source": [
    "Discount[:100]"
   ]
  },
  {
   "cell_type": "code",
   "execution_count": null,
   "id": "d7c0adb5",
   "metadata": {},
   "outputs": [],
   "source": [
    "sneakers=pd.DataFrame({})\n",
    "sneakers['Brand_name']=B_name[:100]\n",
    "sneakers['P_price']=Price[:100]\n",
    "sneakers['Pr_desc']=P_desc[:100]\n",
    "sneakers"
   ]
  },
  {
   "cell_type": "markdown",
   "id": "54029e2d",
   "metadata": {},
   "source": [
    "Q9: Write a python program to scrape data for first 10 job results for Data Scientist Designation in Noida location. You have to scrape company name, No. of days ago when job was posted, Rating of the company."
   ]
  },
  {
   "cell_type": "code",
   "execution_count": null,
   "id": "d15da742",
   "metadata": {},
   "outputs": [],
   "source": [
    "import selenium\n",
    "import pandas as pd\n",
    "from selenium import webdriver\n",
    "import warnings\n",
    "warnings.filterwarnings(\"ignore\")\n",
    "import time"
   ]
  },
  {
   "cell_type": "code",
   "execution_count": null,
   "id": "9d1eb9f8",
   "metadata": {},
   "outputs": [],
   "source": [
    "# Lets first connect to the web driver\n",
    "driver = webdriver.Chrome(r\"F:\\Data science internship\\chromedriver.exe\")\n",
    "driver=webdriver.Chrome(\"chromedriver.exe\")\n",
    "time.sleep(2)\n",
    "driver.get('https://www.ambitionbox.com/')"
   ]
  },
  {
   "cell_type": "code",
   "execution_count": null,
   "id": "0538f9c9",
   "metadata": {},
   "outputs": [],
   "source": [
    "search= driver.find_element_by_xpath(\"//a[@class='link jobs']\") \n",
    "search"
   ]
  },
  {
   "cell_type": "code",
   "execution_count": null,
   "id": "0e1c78ac",
   "metadata": {},
   "outputs": [],
   "source": [
    "search.send_keys('jobs')\n"
   ]
  },
  {
   "cell_type": "code",
   "execution_count": null,
   "id": "1d089806",
   "metadata": {},
   "outputs": [],
   "source": [
    "search_button=driver.find_element_by_xpath(\"/html/body/div[1]/nav/nav/a[6]\")\n",
    "search_button.click()\n",
    "\n",
    "# Specifying the url of the webpage to be scraped\n",
    "url=\"https://www.ambitionbox.com/jobs\"\n",
    "\n",
    "# Lets open the webpage through our web driver\n",
    "driver.get(url)"
   ]
  },
  {
   "cell_type": "code",
   "execution_count": null,
   "id": "fa889c2f",
   "metadata": {},
   "outputs": [],
   "source": [
    "search_designation=driver.find_element_by_xpath(\"/html/body/div/div/div/div[2]/div[1]/div[1]/div/div/div/div/span/input\") #job search bar\n",
    "search_designation"
   ]
  },
  {
   "cell_type": "code",
   "execution_count": null,
   "id": "e14ccf12",
   "metadata": {},
   "outputs": [],
   "source": [
    "search_designation.send_keys(\"Data Scientist\")\n",
    "\n",
    "search_button=driver.find_element_by_xpath(\"/html/body/div/div/div/div[2]/div[1]/div[1]/div/div/div/button/span\")\n",
    "search_button.click()\n",
    "\n",
    "url=\"https://www.ambitionbox.com/jobs/search?tag=Data%20Scientist\""
   ]
  },
  {
   "cell_type": "code",
   "execution_count": null,
   "id": "aee9b227",
   "metadata": {},
   "outputs": [],
   "source": [
    "search_loaction=driver.find_element_by_xpath('/html/body/div/div/div/div[2]/div[1]/div[2]/div[1]/div/div/div/div[2]/div[1]/i') \n",
    "search_button=driver.find_element_by_xpath('/html/body/div/div/div/div[2]/div[1]/div[2]/div[1]/div/div/div/div[2]/div[1]/i')\n",
    "search_button.click()"
   ]
  },
  {
   "cell_type": "code",
   "execution_count": null,
   "id": "f2ed7817",
   "metadata": {},
   "outputs": [],
   "source": [
    "select_button=driver.find_element_by_xpath(\"//label[@class='radio-label']\")\n",
    "select_button"
   ]
  },
  {
   "cell_type": "code",
   "execution_count": null,
   "id": "3b9f4fb6",
   "metadata": {},
   "outputs": [],
   "source": [
    "job_titles=[]\n",
    "company_names=[]\n",
    "locations_list=[]\n",
    "experience_list=[]\n",
    "# So lets extract all the tags having the job-titles\n",
    "titles_tags=driver.find_elements_by_xpath(\"//a[@class='title noclick']\")\n",
    "titles_tags[0:10]"
   ]
  },
  {
   "cell_type": "code",
   "execution_count": null,
   "id": "1421b661",
   "metadata": {},
   "outputs": [],
   "source": [
    "for i in titles_tags:\n",
    "    title=i.text\n",
    "    job_titles.append(title)\n",
    "job_titles[0:10]"
   ]
  },
  {
   "cell_type": "code",
   "execution_count": null,
   "id": "7964c131",
   "metadata": {},
   "outputs": [],
   "source": [
    "companies_tags=driver.find_elements_by_xpath(\"//p[@class='company body-medium']\")\n",
    "companies_tags[0:10]"
   ]
  },
  {
   "cell_type": "code",
   "execution_count": null,
   "id": "6fa4fa0d",
   "metadata": {},
   "outputs": [],
   "source": [
    "for i in companies_tags:\n",
    "    company_name=i.text\n",
    "    company_names.append(company_name)\n",
    "company_names[0:10]"
   ]
  },
  {
   "cell_type": "code",
   "execution_count": null,
   "id": "455f7cfc",
   "metadata": {},
   "outputs": [],
   "source": [
    "experience_tags=driver.find_elements_by_xpath(\"//p[@class='body-small-l']\")\n",
    "experience_tags[0:10]"
   ]
  },
  {
   "cell_type": "code",
   "execution_count": null,
   "id": "5e580486",
   "metadata": {},
   "outputs": [],
   "source": [
    "for i in experience_tags:\n",
    "    experience=i.text\n",
    "    experience_list.append(experience)\n",
    "experience_list[0:10]"
   ]
  },
  {
   "cell_type": "code",
   "execution_count": null,
   "id": "4e92a780",
   "metadata": {},
   "outputs": [],
   "source": [
    "jobs=pd.DataFrame({})\n",
    "jobs['title']=job_titles[:10]\n",
    "jobs['company']=company_names[:10]\n",
    "jobs['experience_required']=experience_list[:10]\n",
    "jobs"
   ]
  },
  {
   "cell_type": "markdown",
   "id": "edd98aaa",
   "metadata": {},
   "source": [
    "QUE10-Write a python program to scrape the salary data for Data Scientist designation. You have to scrape Company name, Number of salaries, Average salary, Minsalary, Max Salary.\n"
   ]
  },
  {
   "cell_type": "code",
   "execution_count": null,
   "id": "cbbc17c6",
   "metadata": {},
   "outputs": [],
   "source": [
    "import selenium\n",
    "import pandas as pd\n",
    "from selenium import webdriver\n",
    "import warnings\n",
    "warnings.filterwarnings(\"ignore\")\n",
    "import time"
   ]
  },
  {
   "cell_type": "code",
   "execution_count": null,
   "id": "3d22c088",
   "metadata": {},
   "outputs": [],
   "source": [
    "driver = webdriver.Chrome(r\"F:\\Data science internship\\chromedriver.exe\")\n",
    "driver=webdriver.Chrome(\"chromedriver.exe\")\n",
    "time.sleep(2)\n",
    "driver.get('https://www.ambitionbox.com/')"
   ]
  },
  {
   "cell_type": "code",
   "execution_count": null,
   "id": "0dfa69a6",
   "metadata": {},
   "outputs": [],
   "source": [
    "search= driver.find_element_by_xpath(\"//a[@class='link salaries']\") \n",
    "search"
   ]
  },
  {
   "cell_type": "code",
   "execution_count": null,
   "id": "9bdd8274",
   "metadata": {},
   "outputs": [],
   "source": [
    "search.send_keys('Salaries')\n",
    "search.click()"
   ]
  },
  {
   "cell_type": "code",
   "execution_count": null,
   "id": "fd7f4819",
   "metadata": {},
   "outputs": [],
   "source": [
    "search_job_profile=driver.find_element_by_xpath('/html/body/div/div/div/main/section[1]/div[2]/div[1]/span/input')\n",
    "search_job_profile\n"
   ]
  },
  {
   "cell_type": "code",
   "execution_count": null,
   "id": "f5cd34d0",
   "metadata": {},
   "outputs": [],
   "source": [
    "search_job_profile.send_keys(\"Data Scientist\")\n",
    "search_job_profile.click()\n",
    "select_button=driver.find_element_by_xpath(\"//p[@class='tt_text']\")\n",
    "select_button"
   ]
  },
  {
   "cell_type": "code",
   "execution_count": null,
   "id": "1d66ffb6",
   "metadata": {},
   "outputs": [],
   "source": [
    "search_job_profile.click()\n",
    "select_button=driver.find_element_by_xpath(\"//div[@class='suggestion_wrap tt-suggestion tt-selectable']\")\n",
    "select_button"
   ]
  },
  {
   "cell_type": "code",
   "execution_count": null,
   "id": "c51089c5",
   "metadata": {},
   "outputs": [],
   "source": [
    "search_job_profile.click()\n",
    "company_name=[]\n",
    "total_salary_record=[]\n",
    "average_salary=[]\n",
    "minimum_salary=[]\n",
    "maximum_salary=[]\n",
    "experience_required=[]\n",
    "companies_tags=driver.find_elements_by_xpath(\"//div[@class='name']\")\n",
    "companies_tags[0:10]"
   ]
  },
  {
   "cell_type": "code",
   "execution_count": null,
   "id": "a90b4469",
   "metadata": {},
   "outputs": [],
   "source": [
    "for i in companies_tags:\n",
    "    company_names=i.text\n",
    "    company_names.append(company_name)\n",
    "company_names[0:10]"
   ]
  },
  {
   "cell_type": "code",
   "execution_count": null,
   "id": "7cefd458",
   "metadata": {},
   "outputs": [],
   "source": [
    "salary_tags=driver.find_elements_by_xpath(\"//p[@class='averageCtc']\")\n",
    "salary_tags[0:10]"
   ]
  },
  {
   "cell_type": "code",
   "execution_count": null,
   "id": "80adfc3e",
   "metadata": {},
   "outputs": [],
   "source": [
    "for i in salary_tags :\n",
    "    salary=i.text\n",
    "    total_salary_record.append(salary)\n",
    "total_salary_record[0:10]"
   ]
  },
  {
   "cell_type": "code",
   "execution_count": null,
   "id": "ea6e5028",
   "metadata": {},
   "outputs": [],
   "source": [
    "salary_tags=driver.find_elements_by_xpath(\"//div[@class='value body-medium']\")\n",
    "salary_tags[0:10]\n"
   ]
  },
  {
   "cell_type": "code",
   "execution_count": null,
   "id": "82c0fc85",
   "metadata": {},
   "outputs": [],
   "source": [
    "for i in salary_tags :\n",
    "    salary=i.text\n",
    "    minimum_salary.append(salary)\n",
    "minimum_salary[0:10]"
   ]
  },
  {
   "cell_type": "code",
   "execution_count": null,
   "id": "6a4d1552",
   "metadata": {},
   "outputs": [],
   "source": [
    "salary_tags=driver.find_elements_by_xpath(\"//div[@class='value body-medium']\")\n",
    "salary_tags[0:10]"
   ]
  },
  {
   "cell_type": "code",
   "execution_count": null,
   "id": "e3b8fec5",
   "metadata": {},
   "outputs": [],
   "source": [
    "for i in salary_tags :\n",
    "    salary=i.text\n",
    "    maximum_salary.append(salary)\n",
    "maximum_salary[0:10]"
   ]
  },
  {
   "cell_type": "code",
   "execution_count": null,
   "id": "02717410",
   "metadata": {},
   "outputs": [],
   "source": [
    "experience_tags=driver.find_elements_by_xpath(\"//div[@class='salaries sbold-list-header']\")\n",
    "experience_tags[0:10]"
   ]
  },
  {
   "cell_type": "code",
   "execution_count": null,
   "id": "234150c3",
   "metadata": {},
   "outputs": [],
   "source": [
    "for i in experience_tags:\n",
    "    experience=i.text\n",
    "    experience_required.append(experience)\n",
    "experience_required[0:10]"
   ]
  },
  {
   "cell_type": "code",
   "execution_count": null,
   "id": "53395829",
   "metadata": {},
   "outputs": [],
   "source": [
    "jobs=pd.DataFrame({})\n",
    "jobs['Total Salary Record']=total_salary_record[:10]\n",
    "jobs['Minimum Salary']=minimum_salary[:10]\n",
    "jobs['Maximum Salary']=maximum_salary[:10]\n",
    "jobs['Experience']=experience_required[:10]\n",
    "jobs"
   ]
  },
  {
   "cell_type": "code",
   "execution_count": null,
   "id": "c5c93bcb",
   "metadata": {},
   "outputs": [],
   "source": [
    "driver.close()"
   ]
  },
  {
   "cell_type": "markdown",
   "id": "c1e6985e",
   "metadata": {},
   "source": [
    "que 5- scrap 100 reviews data from flipkart.com?"
   ]
  },
  {
   "cell_type": "code",
   "execution_count": null,
   "id": "9f68346c",
   "metadata": {},
   "outputs": [],
   "source": [
    "import selenium\n",
    "import pandas as pd\n",
    "from selenium import webdriver\n",
    "import warnings\n",
    "warnings.filterwarnings(\"ignore\")\n",
    "import time"
   ]
  },
  {
   "cell_type": "code",
   "execution_count": null,
   "id": "fe4c4fbd",
   "metadata": {},
   "outputs": [],
   "source": [
    "driver = webdriver.Chrome(r\"F:\\Data science internship\\chromedriver.exe\")\n",
    "driver=webdriver.Chrome(\"chromedriver.exe\")\n",
    "time.sleep(2)"
   ]
  },
  {
   "cell_type": "code",
   "execution_count": null,
   "id": "813ff1c9",
   "metadata": {},
   "outputs": [],
   "source": [
    "driver.get('https://www.flipkart.com/apple-iphone-11-black-64-gb-includes-earpods-power-adapter/p/itm0f37c2240b217?pid=MOBFKCTSVZAXUHGR&lid=LSTMOBFKCTSVZAXUHGREPBFGI&marketplace')\n"
   ]
  },
  {
   "cell_type": "code",
   "execution_count": null,
   "id": "ed9da519",
   "metadata": {},
   "outputs": [],
   "source": [
    "Rating=[] \n",
    "Review_summary=[]\n",
    "Full_review=[]\n",
    "all_btn = driver.find_element_by_xpath(\"//div[@class='_3UAT2v _16PBlm']/span\")\n",
    "all_btn.click()"
   ]
  },
  {
   "cell_type": "code",
   "execution_count": null,
   "id": "1ba95993",
   "metadata": {},
   "outputs": [],
   "source": [
    "for page in range(0,10):\n",
    "    r = driver.find_elements_by_xpath(\"//div[@class='_3LWZlK _1BLPMq']\")\n",
    "\n",
    "    for i in r:\n",
    "        title=i.text\n",
    "        Rating.append(title)\n",
    "    driver.find_element_by_xpath(\"//nav[@class='yFHi8N']/a\").click()\n",
    "Rating[0:100]"
   ]
  },
  {
   "cell_type": "code",
   "execution_count": null,
   "id": "324e4131",
   "metadata": {},
   "outputs": [],
   "source": [
    "for page in range(0,10):\n",
    "    s = driver.find_elements_by_xpath(\"//p[@class='_2-N8zT']\")\n",
    "\n",
    "    for i in s:\n",
    "        title=i.text\n",
    "        Review_summary.append(title)\n",
    "    driver.find_element_by_xpath(\"//nav[@class='yFHi8N']/a\").click()\n",
    "Review_summary[0:100]"
   ]
  },
  {
   "cell_type": "code",
   "execution_count": null,
   "id": "c9d5605d",
   "metadata": {},
   "outputs": [],
   "source": [
    "for page in range(0,10):\n",
    "    f = driver.find_elements_by_xpath(\"//div[@class='t-ZTKy']\")\n",
    "\n",
    "    for i in f:\n",
    "        title=i.text\n",
    "        Full_review.append(title)\n",
    "    driver.find_element_by_xpath(\"//nav[@class='yFHi8N']/a\").click()\n",
    "Full_review[0:100]"
   ]
  },
  {
   "cell_type": "code",
   "execution_count": null,
   "id": "1b89761d",
   "metadata": {},
   "outputs": [],
   "source": [
    "import pandas as pd\n",
    "table=pd.DataFrame({})\n",
    "\n",
    "table['Rating']=Rating[:100]\n",
    "table['Review Summary']=Review_summary[:100]\n",
    "table['Full Review']=Full_review[:100]\n",
    "\n",
    "table"
   ]
  },
  {
   "cell_type": "markdown",
   "id": "3a4e5d53",
   "metadata": {},
   "source": [
    "que 7- scrap the data from myntra site."
   ]
  },
  {
   "cell_type": "code",
   "execution_count": null,
   "id": "b10d9605",
   "metadata": {},
   "outputs": [],
   "source": [
    "import selenium\n",
    "import pandas as pd\n",
    "from selenium import webdriver\n",
    "import warnings\n",
    "warnings.filterwarnings(\"ignore\")\n",
    "import time"
   ]
  },
  {
   "cell_type": "code",
   "execution_count": null,
   "id": "6e9211e7",
   "metadata": {},
   "outputs": [],
   "source": [
    "driver = webdriver.Chrome(r\"F:\\Data science internship\\chromedriver.exe\")\n",
    "driver=webdriver.Chrome(\"chromedriver.exe\")\n",
    "time.sleep(2)"
   ]
  },
  {
   "cell_type": "code",
   "execution_count": null,
   "id": "a479b7d1",
   "metadata": {},
   "outputs": [],
   "source": [
    "driver.get('https://www.myntra.com/shoes')\n",
    "driver.find_element_by_xpath(\"//input[@value='6589.0 TO 13059.0']\").click()\n",
    "driver.find_element_by_xpath(\"//span[@data-colorhex='black']\").click()"
   ]
  },
  {
   "cell_type": "code",
   "execution_count": null,
   "id": "2eb93289",
   "metadata": {},
   "outputs": [],
   "source": [
    "Brand=[]\n",
    "Product_d=[]\n",
    "Price=[]"
   ]
  },
  {
   "cell_type": "code",
   "execution_count": null,
   "id": "6d908358",
   "metadata": {},
   "outputs": [],
   "source": [
    "for page in range(0,3):\n",
    "    b = driver.find_elements_by_xpath(\"//div[@class='product-productMetaInfo']\")\n",
    "\n",
    "    for i in b:\n",
    "        title=i.text\n",
    "        Brand.append(title)\n",
    "    driver.find_element_by_xpath(\"//li[@class='pagination-number']/a\").click()\n",
    "Brand[0:100]"
   ]
  },
  {
   "cell_type": "code",
   "execution_count": null,
   "id": "16d86d38",
   "metadata": {},
   "outputs": [],
   "source": [
    "for page in range(0,3):\n",
    "    p = driver.find_elements_by_xpath(\"//h4[@class='product-product']\")\n",
    "\n",
    "    for i in p:\n",
    "        Product_d.append(title)\n",
    "    driver.find_element_by_xpath(\"//li[@class='pagination-number']/a\").click()\n",
    "Product_d[0:100]"
   ]
  },
  {
   "cell_type": "code",
   "execution_count": null,
   "id": "25fbe503",
   "metadata": {},
   "outputs": [],
   "source": [
    "for page in range(0,3):\n",
    "    pr = driver.find_elements_by_xpath(\"//span[@class='product-discountedPrice']\")\n",
    "\n",
    "    for i in pr:\n",
    "        title=i.text\n",
    "        Price.append(title)\n",
    "    driver.find_element_by_xpath(\"//li[@class='pagination-number']/a\").click()\n",
    "Price[0:100]"
   ]
  },
  {
   "cell_type": "code",
   "execution_count": null,
   "id": "706d37bb",
   "metadata": {},
   "outputs": [],
   "source": [
    "import pandas as pd\n",
    "table=pd.DataFrame({})\n",
    "\n",
    "table['Brand']=Brand[:100]\n",
    "table['Product Description']=Product_d[:100]\n",
    "table['Price']=Price[:100]\n",
    "\n",
    "table"
   ]
  },
  {
   "cell_type": "markdown",
   "id": "ef3273f6",
   "metadata": {},
   "source": [
    "que 8-scrap the data from amazom website."
   ]
  },
  {
   "cell_type": "code",
   "execution_count": null,
   "id": "bad51f91",
   "metadata": {},
   "outputs": [],
   "source": [
    "import selenium\n",
    "import pandas as pd\n",
    "from selenium import webdriver\n",
    "import warnings\n",
    "warnings.filterwarnings(\"ignore\")\n",
    "import time"
   ]
  },
  {
   "cell_type": "code",
   "execution_count": null,
   "id": "b7fb0353",
   "metadata": {},
   "outputs": [],
   "source": [
    "driver = webdriver.Chrome(r\"F:\\Data science internship\\chromedriver.exe\")\n",
    "driver=webdriver.Chrome(\"chromedriver.exe\")\n",
    "time.sleep(2)"
   ]
  },
  {
   "cell_type": "code",
   "execution_count": null,
   "id": "d7b21a4f",
   "metadata": {},
   "outputs": [],
   "source": [
    "driver.get('https://www.amazon.in/')\n",
    "s = driver.find_element_by_id('twotabsearchtextbox')\n",
    "s.send_keys(\"Laptop\")"
   ]
  },
  {
   "cell_type": "code",
   "execution_count": null,
   "id": "de3d4435",
   "metadata": {},
   "outputs": [],
   "source": [
    "search_btn = driver.find_elements_by_xpath(\"//div[@class='nav-search-submit nav-sprite']/span\")\n",
    "search_btn[0].click()"
   ]
  },
  {
   "cell_type": "code",
   "execution_count": null,
   "id": "c11d9b02",
   "metadata": {},
   "outputs": [],
   "source": [
    "driver.find_element_by_xpath(\"//a[@href='/s?k=Laptop&rh=n%3A1375424031%2Cp_n_feature_thirteen_browse-bin%3A12598163031&dc&qid=1613477960&rnid=12598141031&ref=sr_nr_p_n_feature_thirteen_browse-bin_16']/div\").click()\n",
    "driver.find_element_by_xpath(\"//a[@href='/s?k=Laptop&i=computers&rh=n%3A1375424031%2Cp_n_feature_thirteen_browse-bin%3A12598163031%7C16757432031&dc&qid=1613478003&rnid=12598141031&ref=sr_nr_p_n_feature_thirteen_browse-bin_17']/div\").click()\n",
    "url=\"https://www.amazon.in/s?k=Laptop&i=computers&rh=n%3A1375424031%2Cp_n_feature_thirteen_browse-bin%3A12598163031%7C16757432031&dc&qid=1613478003&rnid=12598141031&ref=sr_nr_p_n_feature_thirteen_browse-bin_17\"\n",
    "driver.get(url)\n"
   ]
  },
  {
   "cell_type": "code",
   "execution_count": null,
   "id": "a7fcca38",
   "metadata": {},
   "outputs": [],
   "source": [
    "Title=[]\n",
    "Ratings=[]\n",
    "Price=[]"
   ]
  },
  {
   "cell_type": "code",
   "execution_count": null,
   "id": "0215f143",
   "metadata": {},
   "outputs": [],
   "source": [
    "t = driver.find_elements_by_xpath(\"//a[@class='a-link-normal a-text-normal']\")\n",
    "t[0:10]"
   ]
  },
  {
   "cell_type": "code",
   "execution_count": null,
   "id": "00c0fb8b",
   "metadata": {},
   "outputs": [],
   "source": [
    "for i in t:\n",
    "    title=i.text\n",
    "    Title.append(title)\n",
    "Title[0:10]"
   ]
  },
  {
   "cell_type": "code",
   "execution_count": null,
   "id": "3bd3dc64",
   "metadata": {},
   "outputs": [],
   "source": [
    "r = driver.find_elements_by_xpath(\"//span[@class='a-size-base']\")\n",
    "r[0:10]"
   ]
  },
  {
   "cell_type": "code",
   "execution_count": null,
   "id": "d8e2807c",
   "metadata": {},
   "outputs": [],
   "source": [
    "for i in r:\n",
    "    title=i.text\n",
    "    Ratings.append(title)\n",
    "Ratings[0:10]"
   ]
  },
  {
   "cell_type": "code",
   "execution_count": null,
   "id": "b5019a23",
   "metadata": {},
   "outputs": [],
   "source": [
    "p = driver.find_elements_by_xpath(\"//span[@class='a-price-whole']\")\n",
    "p[0:10]"
   ]
  },
  {
   "cell_type": "code",
   "execution_count": null,
   "id": "4fed232e",
   "metadata": {},
   "outputs": [],
   "source": [
    "for i in p:\n",
    "    title=i.text\n",
    "    Price.append(title)\n",
    "Price[0:10]"
   ]
  },
  {
   "cell_type": "code",
   "execution_count": null,
   "id": "0c62629d",
   "metadata": {},
   "outputs": [],
   "source": [
    "import pandas as pd\n",
    "table=pd.DataFrame({})\n",
    "\n",
    "table['Title']=Title[:10]\n",
    "table['Ratings']=Ratings[:10]\n",
    "table['Price']=Price[0:10]\n",
    "\n",
    "table"
   ]
  },
  {
   "cell_type": "code",
   "execution_count": null,
   "id": "d8a404d6",
   "metadata": {},
   "outputs": [],
   "source": []
  },
  {
   "cell_type": "code",
   "execution_count": null,
   "id": "27eea2d5",
   "metadata": {},
   "outputs": [],
   "source": []
  },
  {
   "cell_type": "code",
   "execution_count": null,
   "id": "a1e7004f",
   "metadata": {},
   "outputs": [],
   "source": []
  },
  {
   "cell_type": "code",
   "execution_count": null,
   "id": "03fe3d20",
   "metadata": {},
   "outputs": [],
   "source": []
  },
  {
   "cell_type": "code",
   "execution_count": null,
   "id": "7805368f",
   "metadata": {},
   "outputs": [],
   "source": []
  },
  {
   "cell_type": "code",
   "execution_count": null,
   "id": "2d9509b6",
   "metadata": {},
   "outputs": [],
   "source": []
  },
  {
   "cell_type": "code",
   "execution_count": null,
   "id": "566c80df",
   "metadata": {},
   "outputs": [],
   "source": []
  }
 ],
 "metadata": {
  "kernelspec": {
   "display_name": "Python 3 (ipykernel)",
   "language": "python",
   "name": "python3"
  },
  "language_info": {
   "codemirror_mode": {
    "name": "ipython",
    "version": 3
   },
   "file_extension": ".py",
   "mimetype": "text/x-python",
   "name": "python",
   "nbconvert_exporter": "python",
   "pygments_lexer": "ipython3",
   "version": "3.9.7"
  }
 },
 "nbformat": 4,
 "nbformat_minor": 5
}
